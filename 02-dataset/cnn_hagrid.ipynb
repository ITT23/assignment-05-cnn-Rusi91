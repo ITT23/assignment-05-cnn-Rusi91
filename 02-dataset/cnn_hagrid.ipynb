{
 "cells": [
  {
   "cell_type": "code",
   "execution_count": 1,
   "id": "37ed4721-2c0e-4a78-888e-8c586cbd4b47",
   "metadata": {
    "tags": []
   },
   "outputs": [],
   "source": [
    "import cv2\n",
    "import json\n",
    "from matplotlib import pyplot as plt\n",
    "import numpy as np\n",
    "import os\n",
    "import random\n",
    "\n",
    "# import a lot of things from keras:\n",
    "# sequential model\n",
    "from keras.models import Sequential\n",
    "\n",
    "# layers\n",
    "from keras.layers import Input, Dense, Dropout, Flatten, Conv2D, MaxPooling2D, RandomFlip, RandomRotation, RandomContrast, RandomBrightness\n",
    "\n",
    "# loss function\n",
    "from keras.metrics import categorical_crossentropy\n",
    "\n",
    "# callback functions\n",
    "from keras.callbacks import ReduceLROnPlateau, EarlyStopping\n",
    "\n",
    "# convert data to categorial vector representation\n",
    "from keras.utils import to_categorical\n",
    "\n",
    "# nice progress bar for loading data\n",
    "from tqdm.notebook import tqdm\n",
    "\n",
    "# helper function for train/test split\n",
    "from sklearn.model_selection import train_test_split\n",
    "\n",
    "# import confusion matrix helper function\n",
    "from sklearn.metrics import confusion_matrix, ConfusionMatrixDisplay\n",
    "\n",
    "# import pre-trained model\n",
    "from keras.applications.vgg16 import VGG16\n",
    "\n",
    "# include only those gestures\n",
    "CONDITIONS = ['like', 'dislike', 'stop', 'rock', 'peace']\n",
    "CONDITIONS_VALIDATION = ['like_validation', 'dislike_validation', 'stop_validation', 'rock_validation', 'peace_validation']\n",
    "\n",
    "# image size\n",
    "IMG_SIZE = 64\n",
    "SIZE = (IMG_SIZE, IMG_SIZE)\n",
    "\n",
    "# number of color channels we want to use\n",
    "# set to 1 to convert to grayscale\n",
    "# set to 3 to use color images\n",
    "COLOR_CHANNELS = 3"
   ]
  },
  {
   "attachments": {},
   "cell_type": "markdown",
   "id": "47b3f618-cd32-48f5-b43d-05d670ec3cba",
   "metadata": {},
   "source": [
    "## helper function to load and parse annotations"
   ]
  },
  {
   "attachments": {},
   "cell_type": "markdown",
   "id": "6cccb6e2",
   "metadata": {},
   "source": [
    "### for training and testing"
   ]
  },
  {
   "cell_type": "code",
   "execution_count": 2,
   "id": "3705021c-b053-4b70-87b1-a0049ba7e6cc",
   "metadata": {
    "tags": []
   },
   "outputs": [],
   "source": [
    "annotations = dict()\n",
    "\n",
    "for condition in CONDITIONS:\n",
    "    with open(f'_annotations/{condition}.json') as f:\n",
    "        annotations[condition] = json.load(f)"
   ]
  },
  {
   "attachments": {},
   "cell_type": "markdown",
   "id": "dde34b05",
   "metadata": {},
   "source": [
    "### for validation data"
   ]
  },
  {
   "cell_type": "code",
   "execution_count": 3,
   "id": "160cf706",
   "metadata": {},
   "outputs": [],
   "source": [
    "annotations_val = dict()\n",
    "\n",
    "with open(f'annot-ruslan-asabidi.json') as f:\n",
    "    annotations_val[\"annotations_validation\"] = json.load(f)"
   ]
  },
  {
   "attachments": {},
   "cell_type": "markdown",
   "id": "0dad5afd-64ee-4dc2-9b34-4429210c3790",
   "metadata": {},
   "source": [
    "## helper function to pre-process images (color channel conversion and resizing)"
   ]
  },
  {
   "cell_type": "code",
   "execution_count": 4,
   "id": "7e6815af-85fb-483e-ae69-c3a3fee78ffa",
   "metadata": {
    "tags": []
   },
   "outputs": [],
   "source": [
    "def preprocess_image(img):\n",
    "    if COLOR_CHANNELS == 1:\n",
    "        img = cv2.cvtColor(img, cv2.COLOR_BGR2GRAY)\n",
    "    img_resized = cv2.resize(img, SIZE)\n",
    "    return img_resized"
   ]
  },
  {
   "attachments": {},
   "cell_type": "markdown",
   "id": "121f42a0-ece9-47f3-aefb-521366921c18",
   "metadata": {},
   "source": [
    "## load images and annotations"
   ]
  },
  {
   "attachments": {},
   "cell_type": "markdown",
   "id": "8cf5dcc0",
   "metadata": {},
   "source": [
    "### for training and testing of the model"
   ]
  },
  {
   "cell_type": "code",
   "execution_count": 5,
   "id": "06de9c48-aca0-468b-8048-bc7dca63d3ce",
   "metadata": {
    "tags": []
   },
   "outputs": [
    {
     "data": {
      "application/vnd.jupyter.widget-view+json": {
       "model_id": "89dc292af19f4004aaeae62699efcce4",
       "version_major": 2,
       "version_minor": 0
      },
      "text/plain": [
       "  0%|          | 0/250 [00:00<?, ?it/s]"
      ]
     },
     "metadata": {},
     "output_type": "display_data"
    },
    {
     "data": {
      "application/vnd.jupyter.widget-view+json": {
       "model_id": "6111c073538c4799a6ca3752225b8148",
       "version_major": 2,
       "version_minor": 0
      },
      "text/plain": [
       "  0%|          | 0/250 [00:00<?, ?it/s]"
      ]
     },
     "metadata": {},
     "output_type": "display_data"
    },
    {
     "data": {
      "application/vnd.jupyter.widget-view+json": {
       "model_id": "c0af9ff08ec143e89b5abea104c423d8",
       "version_major": 2,
       "version_minor": 0
      },
      "text/plain": [
       "  0%|          | 0/250 [00:00<?, ?it/s]"
      ]
     },
     "metadata": {},
     "output_type": "display_data"
    },
    {
     "data": {
      "application/vnd.jupyter.widget-view+json": {
       "model_id": "dc76d85f0c224dd385ca49fd29c3c466",
       "version_major": 2,
       "version_minor": 0
      },
      "text/plain": [
       "  0%|          | 0/250 [00:00<?, ?it/s]"
      ]
     },
     "metadata": {},
     "output_type": "display_data"
    },
    {
     "data": {
      "application/vnd.jupyter.widget-view+json": {
       "model_id": "4d4e4c570afd401cb3d5357c536cd8a7",
       "version_major": 2,
       "version_minor": 0
      },
      "text/plain": [
       "  0%|          | 0/250 [00:00<?, ?it/s]"
      ]
     },
     "metadata": {},
     "output_type": "display_data"
    }
   ],
   "source": [
    "images = [] # stores actual image data\n",
    "labels = [] # stores labels (as integer - because this is what our network needs)\n",
    "label_names = [] # maps label ints to their actual categories so we can understand predictions later\n",
    "\n",
    "# loop over all conditions\n",
    "# loop over all files in the condition's directory\n",
    "# read the image and corresponding annotation\n",
    "# crop image to the region of interest\n",
    "# preprocess image\n",
    "# store preprocessed image and label in corresponding lists\n",
    "for condition in CONDITIONS:\n",
    "    for filename in tqdm(os.listdir(condition)):\n",
    "        # extract unique ID from file name\n",
    "        UID = filename.split('.')[0]\n",
    "        img = cv2.imread(f'{condition}/{filename}')\n",
    "        \n",
    "        # get annotation from the dict we loaded earlier\n",
    "        try:\n",
    "            annotation = annotations[condition][UID]\n",
    "        except Exception as e:\n",
    "            print(e)\n",
    "            continue\n",
    "        \n",
    "        # iterate over all hands annotated in the image\n",
    "        for i, bbox in enumerate(annotation['bboxes']):\n",
    "            # annotated bounding boxes are in the range from 0 to 1\n",
    "            # therefore we have to scale them to the image size\n",
    "            x1 = int(bbox[0] * img.shape[1])\n",
    "            y1 = int(bbox[1] * img.shape[0])\n",
    "            w = int(bbox[2] * img.shape[1])\n",
    "            h = int(bbox[3] * img.shape[0])\n",
    "            x2 = x1 + w\n",
    "            y2 = y1 + h\n",
    "            \n",
    "            # crop image to the bounding box and apply pre-processing\n",
    "            crop = img[y1:y2, x1:x2]\n",
    "            preprocessed = preprocess_image(crop)\n",
    "            \n",
    "            # get the annotated hand's label\n",
    "            # if we have not seen this label yet, add it to the list of labels\n",
    "            label = annotation['labels'][i]\n",
    "            if label not in label_names:\n",
    "                label_names.append(label)\n",
    "            \n",
    "            label_index = label_names.index(label)\n",
    "            \n",
    "            images.append(preprocessed)\n",
    "            labels.append(label_index)"
   ]
  },
  {
   "attachments": {},
   "cell_type": "markdown",
   "id": "05571551",
   "metadata": {},
   "source": [
    "### for the validation data"
   ]
  },
  {
   "cell_type": "code",
   "execution_count": 6,
   "id": "e2cf38b7",
   "metadata": {},
   "outputs": [
    {
     "data": {
      "application/vnd.jupyter.widget-view+json": {
       "model_id": "9b721623d6f44f38adb80b37623ea8ed",
       "version_major": 2,
       "version_minor": 0
      },
      "text/plain": [
       "  0%|          | 0/4 [00:00<?, ?it/s]"
      ]
     },
     "metadata": {},
     "output_type": "display_data"
    },
    {
     "data": {
      "application/vnd.jupyter.widget-view+json": {
       "model_id": "695dc69c904a42ef8f11e4d08407272e",
       "version_major": 2,
       "version_minor": 0
      },
      "text/plain": [
       "  0%|          | 0/4 [00:00<?, ?it/s]"
      ]
     },
     "metadata": {},
     "output_type": "display_data"
    },
    {
     "data": {
      "application/vnd.jupyter.widget-view+json": {
       "model_id": "a0c819a1f0fb4464bda1438a57260ddd",
       "version_major": 2,
       "version_minor": 0
      },
      "text/plain": [
       "  0%|          | 0/4 [00:00<?, ?it/s]"
      ]
     },
     "metadata": {},
     "output_type": "display_data"
    },
    {
     "data": {
      "application/vnd.jupyter.widget-view+json": {
       "model_id": "bfd74aa9ac3a4200aeb8983258232dc1",
       "version_major": 2,
       "version_minor": 0
      },
      "text/plain": [
       "  0%|          | 0/4 [00:00<?, ?it/s]"
      ]
     },
     "metadata": {},
     "output_type": "display_data"
    },
    {
     "data": {
      "application/vnd.jupyter.widget-view+json": {
       "model_id": "fe21f31a8a734877aec82c359081b450",
       "version_major": 2,
       "version_minor": 0
      },
      "text/plain": [
       "  0%|          | 0/4 [00:00<?, ?it/s]"
      ]
     },
     "metadata": {},
     "output_type": "display_data"
    }
   ],
   "source": [
    "images_val = [] # stores actual image data\n",
    "labels_val = [] # stores labels (as integer - because this is what our network needs)\n",
    "label_names_val = [] # maps label ints to their actual categories so we can understand predictions later\n",
    "\n",
    "# loop over all conditions\n",
    "# loop over all files in the condition's directory\n",
    "# read the image and corresponding annotation\n",
    "# crop image to the region of interest\n",
    "# preprocess image\n",
    "# store preprocessed image and label in corresponding lists\n",
    "for condition in CONDITIONS_VALIDATION:\n",
    "    for filename in tqdm(os.listdir(condition)):\n",
    "        # extract unique ID from file name\n",
    "        UID = filename.split('.')[0]\n",
    "        img = cv2.imread(f'{condition}/{filename}')\n",
    "        \n",
    "        # get annotation from the dict we loaded earlier\n",
    "        try:\n",
    "            annotation_val = annotations_val[\"annotations_validation\"][UID]\n",
    "        except Exception as e:\n",
    "            print(e)\n",
    "            continue\n",
    "        \n",
    "        # iterate over all hands annotated in the image\n",
    "        for i, bbox in enumerate(annotation_val['bboxes']):\n",
    "            # annotated bounding boxes are in the range from 0 to 1\n",
    "            # therefore we have to scale them to the image size\n",
    "            x1 = int(bbox[0] * img.shape[1])\n",
    "            y1 = int(bbox[1] * img.shape[0])\n",
    "            w = int(bbox[2] * img.shape[1])\n",
    "            h = int(bbox[3] * img.shape[0])\n",
    "            x2 = x1 + w\n",
    "            y2 = y1 + h\n",
    "            \n",
    "            # crop image to the bounding box and apply pre-processing\n",
    "            crop = img[y1:y2, x1:x2]\n",
    "            preprocessed = preprocess_image(crop)\n",
    "            \n",
    "            # get the annotated hand's label\n",
    "            # if we have not seen this label yet, add it to the list of labels\n",
    "            label_val = annotation_val['labels'][i]\n",
    "            if label_val not in label_names_val:\n",
    "                label_names_val.append(label_val)\n",
    "            \n",
    "            label_index = label_names_val.index(label_val)\n",
    "            \n",
    "            images_val.append(preprocessed)\n",
    "            labels_val.append(label_index)"
   ]
  },
  {
   "attachments": {},
   "cell_type": "markdown",
   "id": "097ae97c-8dd4-48b7-8a94-bdc1fbe80346",
   "metadata": {},
   "source": [
    "## quick check if images for training/test dataset and below for validation dataset (own images)"
   ]
  },
  {
   "cell_type": "code",
   "execution_count": 7,
   "id": "a9b82f39-8412-4f5a-b074-d091fde3a88f",
   "metadata": {
    "tags": []
   },
   "outputs": [
    {
     "data": {
      "text/plain": [
       "<matplotlib.image.AxesImage at 0x200a8a198a0>"
      ]
     },
     "execution_count": 7,
     "metadata": {},
     "output_type": "execute_result"
    },
    {
     "data": {
      "image/png": "[encoded data removed]",
      "text/plain": [
       "<Figure size 640x480 with 1 Axes>"
      ]
     },
     "metadata": {},
     "output_type": "display_data"
    }
   ],
   "source": [
    "plt.imshow(random.sample(images, 1)[0])"
   ]
  },
  {
   "cell_type": "code",
   "execution_count": 11,
   "id": "22fbf9d1",
   "metadata": {},
   "outputs": [
    {
     "data": {
      "text/plain": [
       "<matplotlib.image.AxesImage at 0x200aae904c0>"
      ]
     },
     "execution_count": 11,
     "metadata": {},
     "output_type": "execute_result"
    },
    {
     "data": {
      "image/png": "[encoded data removed]",
      "text/plain": [
       "<Figure size 640x480 with 1 Axes>"
      ]
     },
     "metadata": {},
     "output_type": "display_data"
    }
   ],
   "source": [
    "plt.imshow(random.sample(images_val, 1)[0])"
   ]
  },
  {
   "attachments": {},
   "cell_type": "markdown",
   "id": "27443d4b-83d1-43d8-9f23-52859703ebd3",
   "metadata": {},
   "source": [
    "## split data set into train and test\n",
    "\n",
    "x is for the actual data, y is for the label (this is convention)"
   ]
  },
  {
   "attachments": {},
   "cell_type": "markdown",
   "id": "a255b120",
   "metadata": {},
   "source": [
    "### for training/test data"
   ]
  },
  {
   "cell_type": "code",
   "execution_count": 12,
   "id": "14fdf1c6-1722-42d7-a353-69cfbdf6d675",
   "metadata": {
    "tags": []
   },
   "outputs": [
    {
     "name": "stdout",
     "output_type": "stream",
     "text": [
      "1301\n",
      "326\n",
      "1301\n",
      "326\n"
     ]
    }
   ],
   "source": [
    "X_train, X_test, y_train, y_test = train_test_split(images, labels, test_size=0.2, random_state=42)\n",
    "\n",
    "print(len(X_train))\n",
    "print(len(X_test))\n",
    "print(len(y_train))\n",
    "print(len(y_test))"
   ]
  },
  {
   "attachments": {},
   "cell_type": "markdown",
   "id": "6a69028e",
   "metadata": {},
   "source": [
    "### for validation data"
   ]
  },
  {
   "cell_type": "code",
   "execution_count": 13,
   "id": "b40797bb",
   "metadata": {},
   "outputs": [
    {
     "name": "stdout",
     "output_type": "stream",
     "text": [
      "2\n",
      "18\n",
      "2\n",
      "18\n"
     ]
    }
   ],
   "source": [
    "X_train_val, X_test_val, y_train_val, y_test_val = train_test_split(images_val, labels_val, test_size=0.9, random_state=42)\n",
    "\n",
    "print(len(X_train_val))\n",
    "print(len(X_test_val))\n",
    "print(len(y_train_val))\n",
    "print(len(y_test_val))"
   ]
  },
  {
   "attachments": {},
   "cell_type": "markdown",
   "id": "7d160d5f-2bd9-4864-9a9e-d5525b55bde6",
   "metadata": {},
   "source": [
    "## transform data sets into a format compatible with our neural network\n",
    "\n",
    "image data has to be a numpy array with following dimensions: [image_id, y_axis, x_axis, color_channels]\n",
    "\n",
    "furthermore, scale all values to a range of 0 to 1\n",
    "\n",
    "training data has to be converted to a categorial vector (\"one hot\"):\n",
    "\n",
    "[3] --> [0, 0, 0, 1, 0, ..., 0]"
   ]
  },
  {
   "attachments": {},
   "cell_type": "markdown",
   "id": "26be71f5",
   "metadata": {},
   "source": [
    "### for training and test data"
   ]
  },
  {
   "cell_type": "code",
   "execution_count": 14,
   "id": "243e3d2c-37ad-4596-a431-cdfd55151145",
   "metadata": {
    "tags": []
   },
   "outputs": [
    {
     "name": "stdout",
     "output_type": "stream",
     "text": [
      "(1301, 64, 64, 3) (326, 64, 64, 3) (1301, 6) (326, 6)\n"
     ]
    }
   ],
   "source": [
    "X_train = np.array(X_train).astype('float32')\n",
    "X_train = X_train / 255.\n",
    "\n",
    "X_test = np.array(X_test).astype('float32')\n",
    "X_test = X_test / 255.\n",
    "\n",
    "y_train_one_hot = to_categorical(y_train)\n",
    "y_test_one_hot = to_categorical(y_test)\n",
    "\n",
    "train_label = y_train_one_hot\n",
    "test_label = y_test_one_hot\n",
    "\n",
    "X_train = X_train.reshape(-1, IMG_SIZE, IMG_SIZE, COLOR_CHANNELS)\n",
    "X_test = X_test.reshape(-1, IMG_SIZE, IMG_SIZE, COLOR_CHANNELS)\n",
    "\n",
    "print(X_train.shape, X_test.shape, train_label.shape, test_label.shape)"
   ]
  },
  {
   "attachments": {},
   "cell_type": "markdown",
   "id": "2edb6de9",
   "metadata": {},
   "source": [
    "### for validation data"
   ]
  },
  {
   "cell_type": "code",
   "execution_count": 15,
   "id": "76cf96ed",
   "metadata": {},
   "outputs": [
    {
     "name": "stdout",
     "output_type": "stream",
     "text": [
      "(18, 64, 64, 3) (18, 5)\n"
     ]
    }
   ],
   "source": [
    "X_test_val = np.array(X_test_val).astype('float32')\n",
    "X_test_val = X_test_val / 255.\n",
    "\n",
    "y_test_one_hot_val = to_categorical(y_test_val)\n",
    "\n",
    "test_label_val = y_test_one_hot_val\n",
    "\n",
    "X_test_val = X_test_val.reshape(-1, IMG_SIZE, IMG_SIZE, COLOR_CHANNELS)\n",
    "\n",
    "print(X_test_val.shape, test_label_val.shape)"
   ]
  },
  {
   "cell_type": "code",
   "execution_count": 16,
   "id": "489e2741-bb40-4501-819e-7a6c18ebcf17",
   "metadata": {
    "tags": []
   },
   "outputs": [],
   "source": [
    "# variables for hyperparameters\n",
    "batch_size = 8\n",
    "epochs = 50\n",
    "num_classes = len(label_names)\n",
    "activation = 'relu'\n",
    "activation_conv = 'LeakyReLU'  # LeakyReLU\n",
    "layer_count = 2\n",
    "num_neurons = 64\n",
    "\n",
    "# define model structure\n",
    "# with keras, we can use a model's add() function to add layers to the network one by one\n",
    "model = Sequential()\n",
    "\n",
    "# data augmentation (this can also be done beforehand - but don't augment the test dataset!)\n",
    "model.add(RandomFlip('horizontal'))\n",
    "model.add(RandomContrast(0.1))\n",
    "#model.add(RandomBrightness(0.1))\n",
    "#model.add(RandomRotation(0.2))\n",
    "\n",
    "# first, we add some convolution layers followed by max pooling\n",
    "model.add(Conv2D(64, kernel_size=(9, 9), activation=activation_conv, input_shape=(SIZE[0], SIZE[1], COLOR_CHANNELS), padding='same'))\n",
    "model.add(MaxPooling2D(pool_size=(4, 4), padding='same'))\n",
    "\n",
    "model.add(Conv2D(32, (5, 5), activation=activation_conv, padding='same'))\n",
    "model.add(MaxPooling2D(pool_size=(3, 3), padding='same'))\n",
    "\n",
    "model.add(Conv2D(32, (3, 3), activation=activation_conv, padding='same'))\n",
    "model.add(MaxPooling2D(pool_size=(2, 2), padding='same'))\n",
    "\n",
    "# dropout layers can drop part of the data during each epoch - this prevents overfitting\n",
    "model.add(Dropout(0.2))\n",
    "\n",
    "# after the convolution layers, we have to flatten the data so it can be fed into fully connected layers\n",
    "model.add(Flatten())\n",
    "\n",
    "# add some fully connected layers (\"Dense\")\n",
    "for i in range(layer_count - 1):\n",
    "    model.add(Dense(num_neurons, activation=activation))\n",
    "\n",
    "model.add(Dense(num_neurons, activation=activation))\n",
    "\n",
    "# for classification, the last layer has to use the softmax activation function, which gives us probabilities for each category\n",
    "model.add(Dense(num_classes, activation='softmax'))\n",
    "\n",
    "# specify loss function, optimizer and evaluation metrics\n",
    "# for classification, categorial crossentropy is used as a loss function\n",
    "# use the adam optimizer unless you have a good reason not to\n",
    "model.compile(loss=categorical_crossentropy, optimizer=\"adam\", metrics=['accuracy'])\n",
    "\n",
    "# define callback functions that react to the model's behavior during training\n",
    "# in this example, we reduce the learning rate once we get stuck and early stopping\n",
    "# to cancel the training if there are no improvements for a certain amount of epochs\n",
    "reduce_lr = ReduceLROnPlateau(monitor='val_loss', factor=0.2, patience=2, min_lr=0.0001)\n",
    "stop_early = EarlyStopping(monitor='val_loss', patience=3)"
   ]
  },
  {
   "attachments": {},
   "cell_type": "markdown",
   "id": "c0401f45-19a6-4447-805c-50516dcad753",
   "metadata": {},
   "source": [
    "## now, we can train the model using the fit() function\n",
    "## this will take a while"
   ]
  },
  {
   "cell_type": "code",
   "execution_count": 17,
   "id": "71c4c865-ee8f-4385-8ae7-9d0f70802c9f",
   "metadata": {
    "tags": []
   },
   "outputs": [
    {
     "name": "stdout",
     "output_type": "stream",
     "text": [
      "Epoch 1/50\n",
      "WARNING:tensorflow:Using a while_loop for converting RngReadAndSkip cause there is no registered converter for this op.\n",
      "WARNING:tensorflow:Using a while_loop for converting Bitcast cause there is no registered converter for this op.\n",
      "WARNING:tensorflow:Using a while_loop for converting Bitcast cause there is no registered converter for this op.\n",
      "WARNING:tensorflow:Using a while_loop for converting StatelessRandomUniformFullIntV2 cause there is no registered converter for this op.\n",
      "WARNING:tensorflow:Using a while_loop for converting StatelessRandomGetKeyCounter cause there is no registered converter for this op.\n",
      "WARNING:tensorflow:Using a while_loop for converting StatelessRandomUniformV2 cause there is no registered converter for this op.\n",
      "WARNING:tensorflow:Using a while_loop for converting RngReadAndSkip cause there is no registered converter for this op.\n",
      "WARNING:tensorflow:Using a while_loop for converting Bitcast cause there is no registered converter for this op.\n",
      "WARNING:tensorflow:Using a while_loop for converting Bitcast cause there is no registered converter for this op.\n",
      "WARNING:tensorflow:Using a while_loop for converting StatelessRandomUniformFullIntV2 cause there is no registered converter for this op.\n",
      "WARNING:tensorflow:Using a while_loop for converting StatelessRandomGetKeyCounter cause there is no registered converter for this op.\n",
      "WARNING:tensorflow:Using a while_loop for converting StatelessRandomUniformV2 cause there is no registered converter for this op.\n",
      "WARNING:tensorflow:Using a while_loop for converting RngReadAndSkip cause there is no registered converter for this op.\n",
      "WARNING:tensorflow:Using a while_loop for converting Bitcast cause there is no registered converter for this op.\n",
      "WARNING:tensorflow:Using a while_loop for converting Bitcast cause there is no registered converter for this op.\n",
      "WARNING:tensorflow:Using a while_loop for converting StatelessRandomUniformFullIntV2 cause there is no registered converter for this op.\n",
      "WARNING:tensorflow:Using a while_loop for converting StatelessRandomGetKeyCounter cause there is no registered converter for this op.\n",
      "WARNING:tensorflow:Using a while_loop for converting StatelessRandomUniformV2 cause there is no registered converter for this op.\n",
      "163/163 [==============================] - 8s 37ms/step - loss: 1.7930 - accuracy: 0.2183 - val_loss: 1.8830 - val_accuracy: 0.1656 - lr: 0.0010\n",
      "Epoch 2/50\n",
      "163/163 [==============================] - 6s 37ms/step - loss: 1.7014 - accuracy: 0.3075 - val_loss: 1.5207 - val_accuracy: 0.3957 - lr: 0.0010\n",
      "Epoch 3/50\n",
      "163/163 [==============================] - 6s 36ms/step - loss: 1.4110 - accuracy: 0.4489 - val_loss: 1.1360 - val_accuracy: 0.6135 - lr: 0.0010\n",
      "Epoch 4/50\n",
      "163/163 [==============================] - 6s 36ms/step - loss: 1.0759 - accuracy: 0.5911 - val_loss: 0.8129 - val_accuracy: 0.7147 - lr: 0.0010\n",
      "Epoch 5/50\n",
      "163/163 [==============================] - 6s 36ms/step - loss: 0.7124 - accuracy: 0.7456 - val_loss: 0.7623 - val_accuracy: 0.7086 - lr: 0.0010\n",
      "Epoch 6/50\n",
      "163/163 [==============================] - 6s 36ms/step - loss: 0.5141 - accuracy: 0.8140 - val_loss: 0.5500 - val_accuracy: 0.7791 - lr: 0.0010\n",
      "Epoch 7/50\n",
      "163/163 [==============================] - 6s 36ms/step - loss: 0.3861 - accuracy: 0.8624 - val_loss: 0.4485 - val_accuracy: 0.8405 - lr: 0.0010\n",
      "Epoch 8/50\n",
      "163/163 [==============================] - 6s 36ms/step - loss: 0.2793 - accuracy: 0.9116 - val_loss: 0.5280 - val_accuracy: 0.8436 - lr: 0.0010\n",
      "Epoch 9/50\n",
      "163/163 [==============================] - 6s 36ms/step - loss: 0.2925 - accuracy: 0.8985 - val_loss: 0.3885 - val_accuracy: 0.8589 - lr: 0.0010\n",
      "Epoch 10/50\n",
      "163/163 [==============================] - 6s 36ms/step - loss: 0.1852 - accuracy: 0.9377 - val_loss: 0.4777 - val_accuracy: 0.8804 - lr: 0.0010\n",
      "Epoch 11/50\n",
      "163/163 [==============================] - 6s 36ms/step - loss: 0.1682 - accuracy: 0.9393 - val_loss: 0.5543 - val_accuracy: 0.8466 - lr: 0.0010\n",
      "Epoch 12/50\n",
      "163/163 [==============================] - 6s 36ms/step - loss: 0.0920 - accuracy: 0.9716 - val_loss: 0.4180 - val_accuracy: 0.8957 - lr: 2.0000e-04\n"
     ]
    }
   ],
   "source": [
    "history = model.fit(\n",
    "    X_train,\n",
    "    train_label,\n",
    "    batch_size=batch_size,\n",
    "    epochs=epochs,\n",
    "    verbose=1,\n",
    "    validation_data=(X_test, test_label),\n",
    "    callbacks=[reduce_lr, stop_early]\n",
    ")"
   ]
  },
  {
   "cell_type": "code",
   "execution_count": 18,
   "id": "abaadcde-ab15-4e1c-bbab-cf359fba6325",
   "metadata": {
    "tags": []
   },
   "outputs": [
    {
     "name": "stdout",
     "output_type": "stream",
     "text": [
      "Model: \"sequential\"\n",
      "_________________________________________________________________\n",
      " Layer (type)                Output Shape              Param #   \n",
      "=================================================================\n",
      " random_flip (RandomFlip)    (None, 64, 64, 3)         0         \n",
      "                                                                 \n",
      " random_contrast (RandomCont  (None, 64, 64, 3)        0         \n",
      " rast)                                                           \n",
      "                                                                 \n",
      " conv2d (Conv2D)             (None, 64, 64, 64)        15616     \n",
      "                                                                 \n",
      " max_pooling2d (MaxPooling2D  (None, 16, 16, 64)       0         \n",
      " )                                                               \n",
      "                                                                 \n",
      " conv2d_1 (Conv2D)           (None, 16, 16, 32)        51232     \n",
      "                                                                 \n",
      " max_pooling2d_1 (MaxPooling  (None, 6, 6, 32)         0         \n",
      " 2D)                                                             \n",
      "                                                                 \n",
      " conv2d_2 (Conv2D)           (None, 6, 6, 32)          9248      \n",
      "                                                                 \n",
      " max_pooling2d_2 (MaxPooling  (None, 3, 3, 32)         0         \n",
      " 2D)                                                             \n",
      "                                                                 \n",
      " dropout (Dropout)           (None, 3, 3, 32)          0         \n",
      "                                                                 \n",
      " flatten (Flatten)           (None, 288)               0         \n",
      "                                                                 \n",
      " dense (Dense)               (None, 64)                18496     \n",
      "                                                                 \n",
      " dense_1 (Dense)             (None, 64)                4160      \n",
      "                                                                 \n",
      " dense_2 (Dense)             (None, 6)                 390       \n",
      "                                                                 \n",
      "=================================================================\n",
      "Total params: 99,142\n",
      "Trainable params: 99,142\n",
      "Non-trainable params: 0\n",
      "_________________________________________________________________\n"
     ]
    }
   ],
   "source": [
    "# let's have a look at our model\n",
    "model.summary()"
   ]
  },
  {
   "attachments": {},
   "cell_type": "markdown",
   "id": "a30ac212-8bd0-4a2d-9f9e-4a137d020645",
   "metadata": {},
   "source": [
    "## Plot accuracy and loss of the training process"
   ]
  },
  {
   "cell_type": "code",
   "execution_count": 19,
   "id": "275092f5-84e2-4a26-850d-3b267f91fe27",
   "metadata": {
    "tags": []
   },
   "outputs": [
    {
     "data": {
      "text/plain": [
       "[<matplotlib.lines.Line2D at 0x200ac80d930>]"
      ]
     },
     "execution_count": 19,
     "metadata": {},
     "output_type": "execute_result"
    },
    {
     "data": {
      "image/png": "[encoded data removed]",
      "text/plain": [
       "<Figure size 1500x700 with 1 Axes>"
      ]
     },
     "metadata": {},
     "output_type": "display_data"
    }
   ],
   "source": [
    "loss = history.history['loss']\n",
    "val_loss = history.history['val_loss']\n",
    "accuracy = history.history['accuracy']\n",
    "val_accuracy = history.history['val_accuracy']\n",
    "\n",
    "fig = plt.figure(figsize=(15, 7))\n",
    "ax = plt.gca()\n",
    "\n",
    "ax.set_xlabel('Epoch')\n",
    "ax.set_ylabel('Accuracy (Line), Loss (Dashes)')\n",
    "\n",
    "ax.axhline(1, color='gray')\n",
    "\n",
    "plt.plot(accuracy, color='blue')\n",
    "plt.plot(val_accuracy, color='orange')\n",
    "plt.plot(loss, '--', color='blue', alpha=0.5)\n",
    "plt.plot(val_loss, '--', color='orange', alpha=0.5)"
   ]
  },
  {
   "attachments": {},
   "cell_type": "markdown",
   "id": "b63f0a8e-d384-4790-bb47-889224eb2130",
   "metadata": {},
   "source": [
    "## saving the model\n",
    "\n",
    "the function will create a directory for your model and save structure and weights in there\n",
    "\n",
    "sometimes you will see the .h5 format being used - even though this is a bit faster and needs less space, it comes with its limitations and isn't used that much any more"
   ]
  },
  {
   "cell_type": "code",
   "execution_count": null,
   "id": "304f21c0-6fed-430b-9f96-1c75ccf5bee5",
   "metadata": {
    "tags": []
   },
   "outputs": [],
   "source": [
    "model.save('gesture_recognition')\n",
    "\n",
    "# and this is how you load the model\n",
    "# model = keras.models.load_model(\"gesture_recognition\")"
   ]
  },
  {
   "attachments": {},
   "cell_type": "markdown",
   "id": "165b3fd0-e2fd-4a10-95c6-1370908b9f0c",
   "metadata": {},
   "source": [
    "## visualize classification results with a confusion matrix"
   ]
  },
  {
   "cell_type": "code",
   "execution_count": 24,
   "id": "6bf19f75-976a-449a-bc7a-76a4d30e9c92",
   "metadata": {
    "tags": []
   },
   "outputs": [
    {
     "name": "stdout",
     "output_type": "stream",
     "text": [
      "1/1 [==============================] - 0s 21ms/step\n",
      "before [[1.60697922e-01 8.37439477e-01 1.65156205e-13 1.86253979e-03\n",
      "  3.62503698e-08 8.53514537e-10]\n",
      " [9.15469002e-07 6.90066516e-02 4.07548733e-02 2.72362438e-10\n",
      "  7.85002660e-04 8.89452517e-01]\n",
      " [3.68196168e-03 1.47133678e-01 5.06062925e-01 3.05267307e-03\n",
      "  6.79944232e-02 2.72074372e-01]\n",
      " [4.54039327e-05 9.99945998e-01 7.99712234e-06 2.10732032e-09\n",
      "  1.54295634e-07 4.31521983e-07]\n",
      " [1.65931806e-01 5.18938005e-01 8.32470273e-11 3.14612716e-01\n",
      "  4.41922923e-04 7.55694273e-05]\n",
      " [7.55553779e-12 9.28856075e-01 4.87205647e-02 1.05958135e-12\n",
      "  1.00220684e-02 1.24012809e-02]\n",
      " [2.30775494e-02 1.60931230e-01 5.07108510e-01 1.59389600e-02\n",
      "  3.98009904e-02 2.53142744e-01]\n",
      " [4.82190168e-03 9.12041739e-02 6.42593265e-01 1.88582216e-03\n",
      "  2.47243457e-02 2.34770492e-01]\n",
      " [5.12277894e-03 2.42944136e-02 4.65724261e-05 5.51038282e-03\n",
      "  4.28738564e-01 5.36287248e-01]\n",
      " [4.10025194e-07 9.71332993e-05 1.78780667e-07 7.11931458e-10\n",
      "  6.89383829e-04 9.99212861e-01]\n",
      " [4.91610486e-09 3.16461921e-01 4.41215020e-09 1.34778549e-12\n",
      "  6.83453441e-01 8.46581752e-05]\n",
      " [9.98552620e-01 1.16201129e-03 5.63057283e-12 3.10152132e-07\n",
      "  2.13763880e-04 7.13213522e-05]\n",
      " [2.50670390e-04 6.32446110e-01 5.43514639e-03 2.91978985e-01\n",
      "  6.97802752e-02 1.08860506e-04]\n",
      " [2.81575462e-03 1.21876270e-01 6.37075901e-01 1.90029736e-03\n",
      "  4.19973731e-02 1.94334373e-01]\n",
      " [2.82156924e-15 5.96062601e-01 4.03937399e-01 5.12672068e-20\n",
      "  7.73827113e-10 5.26094413e-13]\n",
      " [3.87386763e-08 1.07655139e-03 3.08491038e-10 2.05815610e-07\n",
      "  9.98919010e-01 4.22080575e-06]\n",
      " [1.36029363e-01 7.92993069e-01 2.48801000e-02 3.35896239e-02\n",
      "  9.97790322e-03 2.52994290e-03]\n",
      " [3.36051686e-04 6.93405818e-05 6.34271302e-10 9.99594390e-01\n",
      "  2.06013510e-07 9.56765223e-10]]\n",
      "probabilities [1 5 2 1 1 1 2 2 5 5 4 0 1 2 1 4 1 3]\n"
     ]
    },
    {
     "data": {
      "image/png": "[encoded data removed]",
      "text/plain": [
       "<Figure size 1000x1000 with 2 Axes>"
      ]
     },
     "metadata": {},
     "output_type": "display_data"
    }
   ],
   "source": [
    "# let the model make predictions for our training data\n",
    "y_predictions = model.predict(X_test_val)\n",
    "\n",
    "# we get a 2D numpy array with probabilities for each category\n",
    "print('before', y_predictions)\n",
    "\n",
    "# to build a confusion matrix, we have to convert it to classifications\n",
    "# this can be done by using the argmax() function to set the probability to 1 and the rest to 0\n",
    "y_predictions = np.argmax(y_predictions, axis=1)\n",
    "\n",
    "print('probabilities', y_predictions)\n",
    "\n",
    "# create and plot confusion matrix\n",
    "conf_matrix = confusion_matrix(y_test_val, y_predictions)\n",
    "\n",
    "fig = plt.figure(figsize=(10, 10))\n",
    "\n",
    "ConfusionMatrixDisplay(conf_matrix, display_labels=label_names).plot(ax=plt.gca())\n",
    "\n",
    "plt.xticks(rotation=90, ha='center')\n",
    "pass"
   ]
  }
 ],
 "metadata": {
  "kernelspec": {
   "display_name": "Python 3 (ipykernel)",
   "language": "python",
   "name": "python3"
  },
  "language_info": {
   "codemirror_mode": {
    "name": "ipython",
    "version": 3
   },
   "file_extension": ".py",
   "mimetype": "text/x-python",
   "name": "python",
   "nbconvert_exporter": "python",
   "pygments_lexer": "ipython3",
   "version": "3.10.11"
  }
 },
 "nbformat": 4,
 "nbformat_minor": 5
}
